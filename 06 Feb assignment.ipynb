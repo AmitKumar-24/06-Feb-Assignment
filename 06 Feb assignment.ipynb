{
 "cells": [
  {
   "cell_type": "markdown",
   "id": "c7ae28e5-830c-49b3-b120-e068f110d688",
   "metadata": {},
   "source": [
    "Q1. Create a function which will take a list as an argument and return the product of all the numbers  after creating a flat list. \n",
    "Use the below-given list as an argument for your function. \n",
    "list1 = [1,2,3,4, [44,55,66, True], False, (34,56,78,89,34), {1,2,3,3,2,1}, {1:34, \"key2\": [55, 67, 78, 89], 4: (45,  22, 61, 34)}, [56, 'data science'], 'Machine Learning'] \n",
    "Note: you must extract numeric keys and values of the dictionary also. "
   ]
  },
  {
   "cell_type": "code",
   "execution_count": 10,
   "id": "6673ec63-11d7-41e3-a3da-1db351468efa",
   "metadata": {},
   "outputs": [
    {
     "name": "stdout",
     "output_type": "stream",
     "text": [
      "2315262738624675840\n"
     ]
    }
   ],
   "source": [
    "list1 = [1,2,3,4, [44,55,66, True], False, (34,56,78,89,34), {1,2,3,3,2,1},{1:34, \"key2\": [55, 67, 78, 89], 4: (45,  22, 61, 34)},\n",
    "             [56, 'data science'],'Machine Learning'] \n",
    "def productOfNumbers(lst):\n",
    "    flat_list = []\n",
    "    def flatList(lst):\n",
    "        for item in lst:\n",
    "            if type(item) == list or type(item) == tuple or type(item) == set or type(item) == dict:\n",
    "                flatList(item)\n",
    "            elif type(item) == int or type(item) == float:\n",
    "                flat_list.append(item)\n",
    "    flatList(lst)\n",
    "    product = 1\n",
    "    for num in flat_list:\n",
    "        product *= num\n",
    "    return product\n",
    "print(productOfNumbers(list1))\n",
    "    "
   ]
  },
  {
   "cell_type": "markdown",
   "id": "5bd2c8c2-c770-4990-953c-9a98ab0ab936",
   "metadata": {},
   "source": [
    "Q2. Write a python program for encrypting a message sent to you by your friend. The logic of encryption should be such that, for a the output should be z. For b, the output should be y. For c, the output should be x respectively. Also, the whitespace should be replaced with a dollar sign. Keep the punctuation marks unchanged."
   ]
  },
  {
   "cell_type": "markdown",
   "id": "0f4fc1cd-9b08-4ea4-805c-352b610b5788",
   "metadata": {},
   "source": [
    "Input Sentence: I want to become a Data Scientist."
   ]
  },
  {
   "cell_type": "markdown",
   "id": "fc9e05ce-c054-49ed-bb8e-34c2fd0937c0",
   "metadata": {},
   "source": [
    "Encrypt the above input sentence using the program you just created."
   ]
  },
  {
   "cell_type": "code",
   "execution_count": 12,
   "id": "a65aa24e-889d-4db7-bc5c-6a41e8a29b44",
   "metadata": {},
   "outputs": [
    {
     "name": "stdin",
     "output_type": "stream",
     "text": [
      " I want to become a Data Scientist\n"
     ]
    },
    {
     "name": "stdout",
     "output_type": "stream",
     "text": [
      "Encrypted message =  I$dzmg$gl$yvxlnv$z$Dzgz$Sxrvmgrhg\n"
     ]
    }
   ],
   "source": [
    "def encryption(msg):\n",
    "    # mapping of each letter with their encryption\n",
    "    mapping = {'a': 'z', 'b': 'y', 'c': 'x', 'd': 'w', 'e': 'v', 'f': 'u', 'g': 't', 'h': 's', 'i': 'r', 'j': 'q',\n",
    "               'k': 'p', 'l': 'o', 'm': 'n', 'n': 'm', 'o': 'l', 'p': 'k', 'q': 'j', 'r': 'i', 's': 'h', 't': 'g',\n",
    "               'u': 'f', 'v': 'e', 'w': 'd', 'x': 'c', 'y': 'b', 'z': 'a', ' ': '$'}\n",
    "    encrypted_msg = \"\"\n",
    "    for char in msg:\n",
    "        if char in mapping:\n",
    "            encrypted_msg += mapping[char]\n",
    "        else:\n",
    "            encrypted_msg += char\n",
    "    return encrypted_msg\n",
    "\n",
    "msg = input()\n",
    "print(\"Encrypted message = \", encryption(msg))"
   ]
  }
 ],
 "metadata": {
  "kernelspec": {
   "display_name": "Python 3 (ipykernel)",
   "language": "python",
   "name": "python3"
  },
  "language_info": {
   "codemirror_mode": {
    "name": "ipython",
    "version": 3
   },
   "file_extension": ".py",
   "mimetype": "text/x-python",
   "name": "python",
   "nbconvert_exporter": "python",
   "pygments_lexer": "ipython3",
   "version": "3.10.8"
  }
 },
 "nbformat": 4,
 "nbformat_minor": 5
}
